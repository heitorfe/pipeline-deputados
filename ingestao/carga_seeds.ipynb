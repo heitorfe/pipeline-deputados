{
 "cells": [
  {
   "cell_type": "code",
   "execution_count": 2,
   "id": "67821ec8",
   "metadata": {},
   "outputs": [],
   "source": [
    "import pandas as pd\n",
    "import requests\n",
    "import os\n"
   ]
  },
  {
   "cell_type": "code",
   "execution_count": null,
   "id": "b9e0dcea",
   "metadata": {},
   "outputs": [
    {
     "name": "stdout",
     "output_type": "stream",
     "text": [
      "Downloading deputadosOrgaos.csv\n",
      "Saving data from https://dadosabertos.camara.leg.br/arquivos/deputadosOrgaos/csv/deputadosOrgaos.csv to ../dbt_camara/seeds/deputadosOrgaos.csv\n",
      "Downloading deputadosDiscursos.csv\n",
      "Saving data from https://dadosabertos.camara.leg.br/arquivos/deputadosDiscursos/csv/deputadosDiscursos.csv to ../dbt_camara/seeds/deputadosDiscursos.csv\n"
     ]
    }
   ],
   "source": [
    "funcionarios_source_path = '../dbt_camara/seeds/'\n",
    "os.makedirs(funcionarios_source_path, exist_ok=True)\n",
    "base_url = 'https://dadosabertos.camara.leg.br/arquivos/{item}/csv/{item}.csv'\n",
    "items = [\n",
    "    'funcionarios', 'tecadCategorias', 'tecadTermos', 'orgaos', \n",
    "    'legislaturas', 'legislaturasMesas', 'gruposHistorico', \n",
    "    'gruposMembros', 'grupos', 'frentesDeputados', 'frentes', \n",
    "    'deputadosOcupacoes', 'deputadosProfissoes', 'deputadosMandatosExternos',\n",
    "]\n",
    "\n",
    "def download_static_csv_for_seeds(url: str, path: str):\n",
    "    filename = url.split('/')[-1]\n",
    "    file_path = os.path.join(path, filename)\n",
    "    if not os.path.exists(file_path):\n",
    "        print(f'Downloading {filename}')\n",
    "        response = requests.get(url)\n",
    "        print(f'Saving data from {url} to {file_path}')\n",
    "        if response.status_code == 200:\n",
    "            with open(file_path, 'wb') as f:\n",
    "                f.write(response.content)\n",
    "\n",
    "for item in items:\n",
    "    url = base_url.format(item=item)\n",
    "    download_static_csv_for_seeds(url, funcionarios_source_path)\n",
    "\n"
   ]
  },
  {
   "cell_type": "code",
   "execution_count": 12,
   "id": "78940119",
   "metadata": {},
   "outputs": [
    {
     "name": "stdout",
     "output_type": "stream",
     "text": [
      "funcionarios: 14894 linhas, 12 colunas\n",
      "tecadCategorias: 79 linhas, 4 colunas\n",
      "tecadTermos: 75035 linhas, 13 colunas\n",
      "orgaos: 3751 linhas, 16 colunas\n",
      "legislaturas: 57 linhas, 5 colunas\n",
      "legislaturasMesas: 177 linhas, 13 colunas\n",
      "gruposHistorico: 408 linhas, 15 colunas\n",
      "gruposMembros: 7076 linhas, 11 colunas\n",
      "grupos: 114 linhas, 24 colunas\n",
      "frentesDeputados: 257016 linhas, 14 colunas\n",
      "frentes: 1417 linhas, 20 colunas\n"
     ]
    }
   ],
   "source": [
    "for item in items:\n",
    "    file_path = os.path.join(funcionarios_source_path, f\"{item}.csv\")\n",
    "    if os.path.exists(file_path):\n",
    "        df = pd.read_csv(file_path, sep=';', quotechar='\"', encoding='utf-8', on_bad_lines='skip', engine='python')\n",
    "        print(f\"{item}: {df.shape[0]} linhas, {df.shape[1]} colunas\")\n",
    "    else:\n",
    "        print(f\"Arquivo {item}.csv não encontrado.\")"
   ]
  }
 ],
 "metadata": {
  "kernelspec": {
   "display_name": ".venv",
   "language": "python",
   "name": "python3"
  },
  "language_info": {
   "codemirror_mode": {
    "name": "ipython",
    "version": 3
   },
   "file_extension": ".py",
   "mimetype": "text/x-python",
   "name": "python",
   "nbconvert_exporter": "python",
   "pygments_lexer": "ipython3",
   "version": "3.12.5"
  }
 },
 "nbformat": 4,
 "nbformat_minor": 5
}
